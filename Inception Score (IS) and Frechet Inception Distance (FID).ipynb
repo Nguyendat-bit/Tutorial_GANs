{
 "cells": [
  {
   "cell_type": "code",
   "execution_count": 40,
   "id": "a70c0f0e",
   "metadata": {},
   "outputs": [],
   "source": [
    "import numpy as np \n",
    "import tensorflow as tf\n",
    "from tensorflow.keras.applications import InceptionV3\n",
    "from tensorflow.keras.applications.imagenet_utils import preprocess_input\n",
    "from scipy.linalg import sqrtm"
   ]
  },
  {
   "cell_type": "markdown",
   "id": "410e1f43",
   "metadata": {},
   "source": [
    "# Inception Score   \n",
    "<a href = 'https://www.google.com/url?sa=t&rct=j&q=&esrc=s&source=web&cd=&cad=rja&uact=8&ved=2ahUKEwiR6L3ehZ31AhWaxzgGHUhTB_UQFnoECBEQAw&url=https%3A%2F%2Farxiv.org%2Fpdf%2F1801.01973%23%3A~%3Atext%3DThe%2520Inception%2520Score%2520is%2520a%2Cfrom%2520the%2520CIFAR%252D10%2520dataset.&usg=AOvVaw16-0DfT4fxbaU2tFlxvcx5'>         A Note on the Inception Score</a>"
   ]
  },
  {
   "cell_type": "code",
   "execution_count": 2,
   "id": "6037e842",
   "metadata": {},
   "outputs": [],
   "source": [
    "def Kullbacks_leibler(py_x, eps = 1E-6):\n",
    "    py = np.expand_dims(py_x.mean(0), 0)\n",
    "    KL = py_x * np.log((py_x + eps) / (py + eps))\n",
    "    return np.sum(KL, axis = 1)"
   ]
  },
  {
   "cell_type": "code",
   "execution_count": 3,
   "id": "fe1f4639",
   "metadata": {},
   "outputs": [
    {
     "data": {
      "text/plain": [
       "array([0.19576713, 0.00769615, 0.35667452])"
      ]
     },
     "execution_count": 3,
     "metadata": {},
     "output_type": "execute_result"
    }
   ],
   "source": [
    "# Test code\n",
    "py_x = np.array([[0.3, 0.3, 0.4], [0.1, 0.2, 0.7], [0.0, 0.0, 1.0]])\n",
    "Kullbacks_leibler(py_x)"
   ]
  },
  {
   "cell_type": "code",
   "execution_count": 4,
   "id": "d628e395",
   "metadata": {},
   "outputs": [],
   "source": [
    "def Inception_score(image, n_split = 10):\n",
    "    scores = [] \n",
    "    model = InceptionV3()\n",
    "    n_parts = int(np.floor(image.shape[0] / n_split ))\n",
    "    image = tf.image.resize(image, (299,299)) /255.\n",
    "    for i in range(n_split):\n",
    "        ix_start, ix_end = i * n_parts, i * n_parts + n_parts\n",
    "        img = image[ix_start:ix_end]\n",
    "        py_x = model.predict(img)\n",
    "        scores.append(np.exp(Kullbacks_leibler(py_x).mean()))\n",
    "    return np.mean(scores), np.std(scores)"
   ]
  },
  {
   "cell_type": "code",
   "execution_count": 6,
   "id": "40476f37",
   "metadata": {
    "scrolled": true
   },
   "outputs": [
    {
     "data": {
      "text/plain": [
       "(7.4813323, 0.36871633)"
      ]
     },
     "execution_count": 6,
     "metadata": {},
     "output_type": "execute_result"
    }
   ],
   "source": [
    "# Test code\n",
    "(x,_),(_,_) = tf.keras.datasets.cifar10.load_data()\n",
    "Inception_score(x[:1000])"
   ]
  },
  {
   "cell_type": "markdown",
   "id": "7d512f5c",
   "metadata": {},
   "source": [
    "# FID\n",
    "<a href = 'https://arxiv.org/pdf/1706.08500.pdf'>         GANs Trained by a Two Time-Scale Update Rule\n",
    "Converge to a Local Nash Equilibrium</a>\n",
    "<br>\n",
    "d^2 = ||mu_1 – mu_2||^2 + Tr(C_1 + C_2 – 2*sqrt(C_1*C_2))"
   ]
  },
  {
   "cell_type": "code",
   "execution_count": 41,
   "id": "842c8f4e",
   "metadata": {},
   "outputs": [],
   "source": [
    "def fid_score(act1, act2):\n",
    "    mu1, sigma1 = act1.mean(axis = 0), np.cov(act1, rowvar= False)\n",
    "    mu2, sigma2 = act2.mean(axis=0), np.cov(act2, rowvar=False)\n",
    "    ssdiff = np.sum((mu1 - mu2)**2.0)\n",
    "    covmean =sqrtm(sigma1.dot(sigma2))\n",
    "    if np.iscomplexobj(covmean):\n",
    "        covmean = covmean.real\n",
    "    fid = ssdiff + np.trace(sigma1 + sigma2 - 2.0 * covmean)\n",
    "    return fid"
   ]
  },
  {
   "cell_type": "code",
   "execution_count": 42,
   "id": "e7b4eaff",
   "metadata": {},
   "outputs": [
    {
     "data": {
      "text/plain": [
       "355.8212503991989"
      ]
     },
     "execution_count": 42,
     "metadata": {},
     "output_type": "execute_result"
    }
   ],
   "source": [
    "# Test code\n",
    "act1 = np.random.random((10,2048))\n",
    "act2 = np.random.random((10,2048))\n",
    "fid_score(act1,act2)"
   ]
  },
  {
   "cell_type": "code",
   "execution_count": 44,
   "id": "734776d2",
   "metadata": {},
   "outputs": [],
   "source": [
    "def calculate_fid_score(image1, image2, inp_shape = (150,150)):\n",
    "    model = InceptionV3(include_top= False, input_shape= (*inp_shape,3),pooling= 'avg')\n",
    "    image1 = tf.image.resize(image1, inp_shape) /255.\n",
    "    image2 = tf.image.resize(image2, inp_shape) /255.\n",
    "    act1 = model.predict(image1)\n",
    "    act2 = model.predict(image2)\n",
    "    return fid_score(act1,act2)"
   ]
  },
  {
   "cell_type": "code",
   "execution_count": 45,
   "id": "e81de5e7",
   "metadata": {},
   "outputs": [
    {
     "data": {
      "text/plain": [
       "20.966887940713626"
      ]
     },
     "execution_count": 45,
     "metadata": {},
     "output_type": "execute_result"
    }
   ],
   "source": [
    "# Test code\n",
    "image1 = np.random.randint(0,255, size = (10,300,300,3))\n",
    "image2 = np.random.randint(0,255, size = (10,300,300,3))\n",
    "calculate_fid_score(image1, image2)"
   ]
  }
 ],
 "metadata": {
  "kernelspec": {
   "display_name": "Python 3 (ipykernel)",
   "language": "python",
   "name": "python3"
  },
  "language_info": {
   "codemirror_mode": {
    "name": "ipython",
    "version": 3
   },
   "file_extension": ".py",
   "mimetype": "text/x-python",
   "name": "python",
   "nbconvert_exporter": "python",
   "pygments_lexer": "ipython3",
   "version": "3.9.7"
  }
 },
 "nbformat": 4,
 "nbformat_minor": 5
}
